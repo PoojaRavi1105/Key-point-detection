{
 "cells": [
  {
   "cell_type": "code",
   "execution_count": 1,
   "metadata": {},
   "outputs": [],
   "source": [
    "import numpy as np\n",
    "import cv2\n",
    "import math"
   ]
  },
  {
   "cell_type": "code",
   "execution_count": 2,
   "metadata": {},
   "outputs": [],
   "source": [
    "#reading the image as gray scale. Image is present in the same folder as this file\n",
    "img = cv2.imread('keypoint.jpg', 0)\n",
    "[rows,cols] = img.shape"
   ]
  },
  {
   "cell_type": "code",
   "execution_count": 3,
   "metadata": {},
   "outputs": [],
   "source": [
    "#padding\n",
    "def padding(img):\n",
    "    listofzeros = [0] * (cols+6)\n",
    "    image_pad_x = list()\n",
    "    for i in range(3):\n",
    "        image_pad_x.append(listofzeros)\n",
    "    for i in img:\n",
    "        i = list(i)\n",
    "        i.insert(0,0)\n",
    "        i.insert(1,0)\n",
    "        i.insert(2,0)\n",
    "        i.insert(len(i),0)\n",
    "        i.insert(len(i)+1,0)\n",
    "        i.insert(len(i)+2,0)\n",
    "        image_pad_x.append(i)\n",
    "    for i in range(3):\n",
    "        image_pad_x.append(listofzeros)\n",
    "    image_pad_x = np.asarray(image_pad_x)\n",
    "    return image_pad_x"
   ]
  },
  {
   "cell_type": "code",
   "execution_count": 4,
   "metadata": {},
   "outputs": [],
   "source": [
    "#calculating the gaussian function\n",
    "def gaussian_function(sigma,x,y):\n",
    "    val = (1/(2*math.pi*sigma*sigma))*(math.exp(-((x*x)+(y*y))/(2*sigma*sigma)))\n",
    "    return val"
   ]
  },
  {
   "cell_type": "code",
   "execution_count": 5,
   "metadata": {},
   "outputs": [],
   "source": [
    "#computing the gaussian kernel\n",
    "def gaussian_kernel(sigma):\n",
    "    sum_val=0\n",
    "    gaussian_kernel_array = [[0.0] * 7 for _ in range(7)]\n",
    "    len(gaussian_kernel_array)\n",
    "    k=0\n",
    "    for i in range(-3,4):\n",
    "        l=0\n",
    "        for j in range(-3,4):\n",
    "            gaussian_kernel_array[k][l] = gaussian_function(sigma,i,j)\n",
    "            l = l+1\n",
    "        k = k+1\n",
    "    #normalisation\n",
    "    maximum = gaussian_kernel_array[i][j]\n",
    "    for i in range(7):\n",
    "        for j in range(7):\n",
    "            if maximum < abs(gaussian_kernel_array[i][j]):\n",
    "                maximum = abs(gaussian_kernel_array[i][j])\n",
    "    for i in range(7):\n",
    "        for j in range(7):\n",
    "            gaussian_kernel_array[i][j] = abs(gaussian_kernel_array[i][j])/maximum\n",
    "              \n",
    "    gaussian_kernel_array =np.asarray(gaussian_kernel_array)\n",
    "    return gaussian_kernel_array"
   ]
  },
  {
   "cell_type": "code",
   "execution_count": 30,
   "metadata": {},
   "outputs": [],
   "source": [
    "#convolution\n",
    "def convolution(image,kernel):\n",
    "    [rows,cols] = image.shape\n",
    "    image_pad_x = padding(image)\n",
    "    #[rows_pad,cols_pad] = image_pad_x.shape\n",
    "    oct_img = [[0.0] * (int)(cols) for _ in range((int)(rows))]\n",
    "    for i in range(3,rows-3):\n",
    "        for j in range(3,cols-3):\n",
    "            s=0\n",
    "            for k in range(7):\n",
    "                for l in range(7):\n",
    "                    s+=image[i-3+k,j-3+l]*kernel[k,l]\n",
    "            oct_img[i-3][j-3]=s\n",
    "    #normalisation\n",
    "    maximum = abs(oct_img[0][0]) \n",
    "    for i in range(rows):\n",
    "        for j in range(cols):\n",
    "            if maximum < abs(oct_img[i][j]):\n",
    "                    maximum = abs(oct_img[i][j])  \n",
    "    for i in range(rows):\n",
    "        for j in range(cols):\n",
    "            oct_img[i][j] = abs(oct_img[i][j])*255/maximum\n",
    "    oct_img = np.asarray(oct_img)\n",
    "    return oct_img"
   ]
  },
  {
   "cell_type": "code",
   "execution_count": 34,
   "metadata": {},
   "outputs": [],
   "source": [
    "#image resizing to generate consequent octaves\n",
    "def resize(img,ctr):\n",
    "    [rows,cols] = img.shape\n",
    "    resized_img = [[0.0] * (int)(cols/ctr) for _ in range((int)(rows/ctr))]\n",
    "    resized_img = np.asarray(resized_img)\n",
    "    k=l=0\n",
    "    for i in range(0,rows,ctr):\n",
    "        l=0\n",
    "        for j in range(0,cols,ctr):\n",
    "            resized_img[k,l] = img[i,j]\n",
    "            l = l+1\n",
    "        k= k+1\n",
    "    return resized_img"
   ]
  },
  {
   "cell_type": "code",
   "execution_count": 35,
   "metadata": {},
   "outputs": [],
   "source": [
    "#Computing the Difference of Gaussian\n",
    "def compute_DoG(octave_1,octave_2):\n",
    "    oct_1 = np.asarray(octave_1)\n",
    "    oct_2 = np.asarray(octave_2)\n",
    "    return (oct_1 - oct_2)"
   ]
  },
  {
   "cell_type": "code",
   "execution_count": 36,
   "metadata": {},
   "outputs": [],
   "source": [
    "sqrt_2 = math.sqrt(2)\n",
    "sigma = [[1/sqrt_2, 1, sqrt_2, 2, 2*sqrt_2],\n",
    "         [sqrt_2, 2, 2*sqrt_2, 4, 4*sqrt_2],\n",
    "         [2*sqrt_2, 4, 4*sqrt_2, 8, 8*sqrt_2],\n",
    "         [4*sqrt_2, 8, 8*sqrt_2, 16, 16*sqrt_2]]\n",
    "resize_ctr = [1,2,4,8]"
   ]
  },
  {
   "cell_type": "code",
   "execution_count": 37,
   "metadata": {},
   "outputs": [],
   "source": [
    "#1st Octave\n",
    "octave_1 = list()\n",
    "resized_img = resize(img,1)\n",
    "for j in range(5):\n",
    "        gaussian_kernel_array = gaussian_kernel(sigma[0][j])\n",
    "        octave= convolution(resized_img,gaussian_kernel_array)\n",
    "        file_name = \"Octave_1_Scale_\"+str(j)+\".png\"\n",
    "        cv2.imwrite(file_name,np.asarray(octave))\n",
    "        octave_1.append(octave)\n",
    " "
   ]
  },
  {
   "cell_type": "code",
   "execution_count": 38,
   "metadata": {},
   "outputs": [],
   "source": [
    "#2nd Octave\n",
    "octave_2 = list()\n",
    "resized_img = resize(img,2)\n",
    "for j in range(5):\n",
    "        gaussian_kernel_array = gaussian_kernel(sigma[1][j])\n",
    "        octave= convolution(resized_img,gaussian_kernel_array)\n",
    "        file_name = \"Octave_2_Scale_\"+str(j)+\".png\"\n",
    "        cv2.imwrite(file_name,np.asarray(octave))\n",
    "        octave_2.append(octave)"
   ]
  },
  {
   "cell_type": "code",
   "execution_count": 33,
   "metadata": {},
   "outputs": [],
   "source": [
    "#3rd Octave\n",
    "octave_3 = list()\n",
    "resized_img = resize(img,4)\n",
    "for j in range(5):\n",
    "        gaussian_kernel_array = gaussian_kernel(sigma[2][j])\n",
    "        octave= convolution(resized_img,gaussian_kernel_array)\n",
    "        file_name = \"Octave_3_Scale_\"+str(j)+\".png\"\n",
    "        cv2.imwrite(file_name,np.asarray(octave))\n",
    "        octave_3.append(octave)"
   ]
  },
  {
   "cell_type": "code",
   "execution_count": 14,
   "metadata": {},
   "outputs": [],
   "source": [
    "#4th Octave\n",
    "octave_4 = list()\n",
    "resized_img = resize(img,8)\n",
    "for j in range(5):\n",
    "        gaussian_kernel_array = gaussian_kernel(sigma[2][j])\n",
    "        octave= convolution(resized_img,gaussian_kernel_array)\n",
    "        file_name = \"Octave_4_Scale_\"+str(j)+\".png\"\n",
    "        cv2.imwrite(file_name,np.asarray(octave))\n",
    "        octave_4.append(octave)"
   ]
  },
  {
   "cell_type": "code",
   "execution_count": 15,
   "metadata": {},
   "outputs": [],
   "source": [
    "def FindKeyPoint(DoG1,DoG2,DoG3):\n",
    "    X = list()\n",
    "    KeyPoint = list()\n",
    "    for i in range(1,DoG1.shape[0]-1):\n",
    "        for j in range(1,DoG1.shape[1]-1):\n",
    "            x1 = DoG1[i-1:i+2,j-1:j+2]\n",
    "            x2 = DoG2[i-1:i+2,j-1:j+2]\n",
    "            x3 = DoG3[i-1:i+2,j-1:j+2]\n",
    "            KeyPointx = i\n",
    "            KeyPointy = j\n",
    "            X = []\n",
    "            for k in range(3):\n",
    "                for l in range(3):\n",
    "                        X.append(x1[k,l])\n",
    "                        X.append(x2[k,l])\n",
    "                        X.append(x3[k,l])\n",
    "            Min = min(X)        \n",
    "            Max = max(X)\n",
    "            #print(Min,Max,DoG2[i+1,j+1])\n",
    "            if x2[1,1]==Min or x2[1,1]==Max and x2[1,1]>0.03 :\n",
    "                KeyPoint.append([KeyPointx,KeyPointy])\n",
    "    return KeyPoint"
   ]
  },
  {
   "cell_type": "code",
   "execution_count": 16,
   "metadata": {},
   "outputs": [],
   "source": [
    "def normalise_DoG_to_Show(dog):\n",
    "    maximum = dog[0][0]\n",
    "    for i in range(len(dog)):\n",
    "        for j in range(len(dog[i])):\n",
    "            if maximum < abs(dog[i][j]):\n",
    "                maximum = abs(dog[i][j])\n",
    "    for i in range(len(dog)):\n",
    "        for j in range(len(dog[i])):\n",
    "            dog[i][j]= abs(dog[i][j])*255/maximum\n",
    "    return dog"
   ]
  },
  {
   "cell_type": "code",
   "execution_count": 17,
   "metadata": {},
   "outputs": [],
   "source": [
    "#1st octave\n",
    "DoG1 = list()\n",
    "for i in range(len(octave_1)-1):\n",
    "    DoG1_val = compute_DoG(octave_1[i],octave_1[i+1])\n",
    "    #print(DoG1)\n",
    "    DoG1.append(DoG1_val)\n",
    "    filename = \"DoG_1.\"+str(i)+\".png\"\n",
    "    #norm_DoG1 = normalise_DoG_to_Show(DoG1_val)\n",
    "    #cv2.imwrite(filename,np.asarray(norm_DoG1))\n",
    "    cv2.imshow(filename,np.asarray(DoG1_val))\n",
    "    cv2.waitKey(0)\n",
    "    cv2.destroyAllWindows()"
   ]
  },
  {
   "cell_type": "code",
   "execution_count": 18,
   "metadata": {},
   "outputs": [],
   "source": [
    "#2nd octave\n",
    "DoG2 = list()\n",
    "for i in range(0,len(octave_2)-1):\n",
    "    DoG2_val = compute_DoG(octave_2[i],octave_2[i+1])\n",
    "    #norm_DoG2 = normalise_DoG_to_Show(DoG2_val)\n",
    "    filename = \"DoG_2.\"+str(i)+\".png\"\n",
    "    #cv2.imwrite(filename,np.asarray(norm_DoG2))\n",
    "    cv2.imshow(filename,np.asarray(DoG2_val))\n",
    "    cv2.waitKey(0)\n",
    "    cv2.destroyAllWindows()\n",
    "    DoG2.append(DoG2_val)"
   ]
  },
  {
   "cell_type": "code",
   "execution_count": 19,
   "metadata": {},
   "outputs": [],
   "source": [
    "#3rd octave\n",
    "DoG3 = list()\n",
    "for i in range(0,len(octave_3)-1):\n",
    "    DoG3_val = compute_DoG(octave_3[i],octave_3[i+1])\n",
    "    #norm_DoG3 = normalise_DoG_to_Show(DoG3_val)\n",
    "    filename = \"DoG_3.\"+str(i)+\".png\"\n",
    "    #cv2.imwrite(filename,np.asarray(norm_DoG3))\n",
    "    cv2.imshow(filename,np.asarray(DoG3_val))\n",
    "    cv2.waitKey(0)\n",
    "    cv2.destroyAllWindows()\n",
    "    DoG3.append(DoG3_val)"
   ]
  },
  {
   "cell_type": "code",
   "execution_count": 20,
   "metadata": {},
   "outputs": [],
   "source": [
    "#4th octave\n",
    "DoG4 = list()\n",
    "for i in range(0,len(octave_4)-1):\n",
    "    DoG4_val = compute_DoG(octave_4[i],octave_4[i+1])\n",
    "    #norm_DoG4 = normalise_DoG_to_Show(DoG4_val)\n",
    "    filename = \"DoG_4.\"+str(i)+\".png\"\n",
    "    #cv2.imwrite(filename,np.asarray(norm_DoG4))\n",
    "    cv2.imshow(filename,np.asarray(DoG4_val))\n",
    "    cv2.waitKey(0)\n",
    "    cv2.destroyAllWindows()\n",
    "    DoG4.append(DoG4_val)"
   ]
  },
  {
   "cell_type": "code",
   "execution_count": 21,
   "metadata": {},
   "outputs": [],
   "source": [
    "#To display the keypoint on the image\n",
    "def ShowKeyPoint(img,KeyPoint,ctr):\n",
    "    [rows,cols] = img.shape\n",
    "    for i in range(len(KeyPoint)):\n",
    "        p = KeyPoint[i]\n",
    "        img[p[0]*ctr,p[1]*ctr] = 255\n",
    "    return (img)"
   ]
  },
  {
   "cell_type": "code",
   "execution_count": 22,
   "metadata": {},
   "outputs": [
    {
     "name": "stdout",
     "output_type": "stream",
     "text": [
      "keypoint for DoG1\n",
      "6684\n",
      "5848\n"
     ]
    }
   ],
   "source": [
    "#keypoint detection\n",
    "#keypoint for DoG1\n",
    "print(\"keypoint for DoG1\")\n",
    "keyPoint1 = list()\n",
    "for i in range(1,len(DoG1)-1):\n",
    "    keyPoint1 = FindKeyPoint(DoG1[i-1],DoG1[i],DoG1[i+1])\n",
    "    print(len(keyPoint1))\n",
    "    filename = \"DoG1_keypoint_new\"+str(i)+\".png\"\n",
    "    show1 = ShowKeyPoint(img,keyPoint1,1)\n",
    "    #cv2.imwrite(filename,show1)\n",
    "    cv2.imshow(filename,show1)\n",
    "    cv2.waitKey(0)\n",
    "    cv2.destroyAllWindows()"
   ]
  },
  {
   "cell_type": "code",
   "execution_count": 28,
   "metadata": {},
   "outputs": [
    {
     "name": "stdout",
     "output_type": "stream",
     "text": [
      "keypoint for DoG2\n",
      "2911\n",
      "2934\n"
     ]
    }
   ],
   "source": [
    "#keypoint for DoG2\n",
    "print(\"keypoint for DoG2\")\n",
    "img = cv2.imread(\"keypoint.jpg\",0)\n",
    "keyPoint2 = list()\n",
    "for i in range(1,len(DoG2)-1):\n",
    "    keyPoint2 = FindKeyPoint(DoG2[i-1],DoG2[i],DoG2[i+1])\n",
    "    print(len(keyPoint2))\n",
    "    filename = \"DoG2_keypoint_\"+str(i)+\".png\"\n",
    "    show2 = ShowKeyPoint(img,keyPoint2,2)\n",
    "    cv2.imwrite(filename,show2)\n",
    "    '''cv2.imshow(filename,show2)\n",
    "    cv2.waitKey(0)\n",
    "    cv2.destroyAllWindows()'''"
   ]
  },
  {
   "cell_type": "code",
   "execution_count": 29,
   "metadata": {},
   "outputs": [
    {
     "name": "stdout",
     "output_type": "stream",
     "text": [
      "keypoint for DoG3\n",
      "1270\n",
      "1260\n"
     ]
    }
   ],
   "source": [
    "#keypoint for DoG3\n",
    "print(\"keypoint for DoG3\")\n",
    "img = cv2.imread(\"keypoint.jpg\",0)\n",
    "for i in range(1,len(DoG3)-1):\n",
    "    keyPoint3 = FindKeyPoint(DoG3[i-1],DoG3[i],DoG3[i+1])\n",
    "    print(len(keyPoint3))\n",
    "    filename = \"DoG3_keypoint_\"+str(i)+\".png\"\n",
    "    show3 = ShowKeyPoint(img,keyPoint3,4)\n",
    "    cv2.imwrite(filename,show3)\n",
    "    '''cv2.imshow(filename,show3)\n",
    "    cv2.waitKey(0)\n",
    "    cv2.destroyAllWindows()'''"
   ]
  },
  {
   "cell_type": "code",
   "execution_count": null,
   "metadata": {},
   "outputs": [],
   "source": [
    "#keypoint for DoG4\n",
    "print(\"keypoint for DoG4\")\n",
    "img = cv2.imread(\"keypoint.jpg\",0)\n",
    "for i in range(1,len(DoG4)-1):\n",
    "    keyPoint4 = FindKeyPoint(DoG4[i-1],DoG4[i],DoG4[i+1])\n",
    "    print(len(keyPoint4))\n",
    "    filename = \"DoG4_keypoint_\"+str(i)+\".png\"\n",
    "    show4 = ShowKeyPoint(img,keyPoint4,8)\n",
    "    cv2.imwrite(filename,show4)\n",
    "    '''cv2.imshow(filename,show4)\n",
    "    cv2.waitKey(0)\n",
    "    cv2.destroyAllWindows()'''"
   ]
  }
 ],
 "metadata": {
  "kernelspec": {
   "display_name": "Python 3",
   "language": "python",
   "name": "python3"
  },
  "language_info": {
   "codemirror_mode": {
    "name": "ipython",
    "version": 3
   },
   "file_extension": ".py",
   "mimetype": "text/x-python",
   "name": "python",
   "nbconvert_exporter": "python",
   "pygments_lexer": "ipython3",
   "version": "3.6.6"
  }
 },
 "nbformat": 4,
 "nbformat_minor": 2
}
